{
 "cells": [
  {
   "cell_type": "code",
   "id": "initial_id",
   "metadata": {
    "collapsed": true,
    "ExecuteTime": {
     "end_time": "2025-05-10T17:46:49.430310Z",
     "start_time": "2025-05-10T17:46:49.427398Z"
    }
   },
   "source": [
    "import os\n",
    "import numpy as np\n",
    "import torch\n",
    "from torch.optim import Adam\n",
    "\n",
    "from tianshou.env import PettingZooEnv\n",
    "from tianshou.data import Collector, VectorReplayBuffer\n",
    "from tianshou.policy import PPOPolicy\n",
    "from tianshou.trainer import OnpolicyTrainer\n",
    "from tianshou.utils.net.common import Net\n",
    "\n",
    "from pettingzoo.utils import parallel_to_aec\n",
    "from env.football_env import raw_env, FootballMAEnv\n",
    "\n",
    "from tianshou.env import DummyVectorEnv\n"
   ],
   "outputs": [],
   "execution_count": 22
  },
  {
   "metadata": {
    "ExecuteTime": {
     "end_time": "2025-05-10T17:46:50.721783Z",
     "start_time": "2025-05-10T17:46:50.548347Z"
    }
   },
   "cell_type": "code",
   "source": [
    "# Load PettingZoo env\n",
    "tianshou_env = PettingZooEnv(raw_env())"
   ],
   "id": "b04756ce7c9c788",
   "outputs": [
    {
     "ename": "ValueError",
     "evalue": "too many values to unpack (expected 2)",
     "output_type": "error",
     "traceback": [
      "\u001B[31m---------------------------------------------------------------------------\u001B[39m",
      "\u001B[31mValueError\u001B[39m                                Traceback (most recent call last)",
      "\u001B[36mCell\u001B[39m\u001B[36m \u001B[39m\u001B[32mIn[23]\u001B[39m\u001B[32m, line 2\u001B[39m\n\u001B[32m      1\u001B[39m \u001B[38;5;66;03m# Load PettingZoo env\u001B[39;00m\n\u001B[32m----> \u001B[39m\u001B[32m2\u001B[39m tianshou_env = \u001B[43mPettingZooEnv\u001B[49m\u001B[43m(\u001B[49m\u001B[43mraw_env\u001B[49m\u001B[43m(\u001B[49m\u001B[43m)\u001B[49m\u001B[43m)\u001B[49m\n",
      "\u001B[36mFile \u001B[39m\u001B[32m~/.virtualenvs/2d_football_rl/lib/python3.12/site-packages/tianshou/env/pettingzoo_env.py:69\u001B[39m, in \u001B[36mPettingZooEnv.__init__\u001B[39m\u001B[34m(self, env)\u001B[39m\n\u001B[32m     55\u001B[39m \u001B[38;5;28;01massert\u001B[39;00m \u001B[38;5;28mall\u001B[39m(\n\u001B[32m     56\u001B[39m     \u001B[38;5;28mself\u001B[39m.env.observation_space(agent) == \u001B[38;5;28mself\u001B[39m.observation_space \u001B[38;5;28;01mfor\u001B[39;00m agent \u001B[38;5;129;01min\u001B[39;00m \u001B[38;5;28mself\u001B[39m.agents\n\u001B[32m     57\u001B[39m ), (\n\u001B[32m   (...)\u001B[39m\u001B[32m     60\u001B[39m     \u001B[33m\"\u001B[39m\u001B[33m`supersuit.aec_wrappers.pad_observations(env)`\u001B[39m\u001B[33m\"\u001B[39m\n\u001B[32m     61\u001B[39m )\n\u001B[32m     63\u001B[39m \u001B[38;5;28;01massert\u001B[39;00m \u001B[38;5;28mall\u001B[39m(\u001B[38;5;28mself\u001B[39m.env.action_space(agent) == \u001B[38;5;28mself\u001B[39m.action_space \u001B[38;5;28;01mfor\u001B[39;00m agent \u001B[38;5;129;01min\u001B[39;00m \u001B[38;5;28mself\u001B[39m.agents), (\n\u001B[32m     64\u001B[39m     \u001B[33m\"\u001B[39m\u001B[33mAction spaces for all agents must be identical. Perhaps \u001B[39m\u001B[33m\"\u001B[39m\n\u001B[32m     65\u001B[39m     \u001B[33m\"\u001B[39m\u001B[33mSuperSuit\u001B[39m\u001B[33m'\u001B[39m\u001B[33ms pad_action_space wrapper can help (useage: \u001B[39m\u001B[33m\"\u001B[39m\n\u001B[32m     66\u001B[39m     \u001B[33m\"\u001B[39m\u001B[33m`supersuit.aec_wrappers.pad_action_space(env)`\u001B[39m\u001B[33m\"\u001B[39m\n\u001B[32m     67\u001B[39m )\n\u001B[32m---> \u001B[39m\u001B[32m69\u001B[39m \u001B[38;5;28;43mself\u001B[39;49m\u001B[43m.\u001B[49m\u001B[43mreset\u001B[49m\u001B[43m(\u001B[49m\u001B[43m)\u001B[49m\n",
      "\u001B[36mFile \u001B[39m\u001B[32m~/.virtualenvs/2d_football_rl/lib/python3.12/site-packages/tianshou/env/pettingzoo_env.py:72\u001B[39m, in \u001B[36mPettingZooEnv.reset\u001B[39m\u001B[34m(self, *args, **kwargs)\u001B[39m\n\u001B[32m     71\u001B[39m \u001B[38;5;28;01mdef\u001B[39;00m\u001B[38;5;250m \u001B[39m\u001B[34mreset\u001B[39m(\u001B[38;5;28mself\u001B[39m, *args: Any, **kwargs: Any) -> \u001B[38;5;28mtuple\u001B[39m[\u001B[38;5;28mdict\u001B[39m, \u001B[38;5;28mdict\u001B[39m]:\n\u001B[32m---> \u001B[39m\u001B[32m72\u001B[39m     \u001B[38;5;28;43mself\u001B[39;49m\u001B[43m.\u001B[49m\u001B[43menv\u001B[49m\u001B[43m.\u001B[49m\u001B[43mreset\u001B[49m\u001B[43m(\u001B[49m\u001B[43m*\u001B[49m\u001B[43margs\u001B[49m\u001B[43m,\u001B[49m\u001B[43m \u001B[49m\u001B[43m*\u001B[49m\u001B[43m*\u001B[49m\u001B[43mkwargs\u001B[49m\u001B[43m)\u001B[49m\n\u001B[32m     74\u001B[39m     observation, reward, terminated, truncated, info = \u001B[38;5;28mself\u001B[39m.env.last(\u001B[38;5;28mself\u001B[39m)\n\u001B[32m     76\u001B[39m     \u001B[38;5;28;01mif\u001B[39;00m \u001B[38;5;28misinstance\u001B[39m(observation, \u001B[38;5;28mdict\u001B[39m) \u001B[38;5;129;01mand\u001B[39;00m \u001B[33m\"\u001B[39m\u001B[33maction_mask\u001B[39m\u001B[33m\"\u001B[39m \u001B[38;5;129;01min\u001B[39;00m observation:\n",
      "\u001B[36mFile \u001B[39m\u001B[32m~/.virtualenvs/2d_football_rl/lib/python3.12/site-packages/pettingzoo/utils/wrappers/order_enforcing.py:118\u001B[39m, in \u001B[36mOrderEnforcingWrapper.reset\u001B[39m\u001B[34m(self, seed, options)\u001B[39m\n\u001B[32m    116\u001B[39m \u001B[38;5;28mself\u001B[39m._has_reset = \u001B[38;5;28;01mTrue\u001B[39;00m\n\u001B[32m    117\u001B[39m \u001B[38;5;28mself\u001B[39m._has_updated = \u001B[38;5;28;01mTrue\u001B[39;00m\n\u001B[32m--> \u001B[39m\u001B[32m118\u001B[39m \u001B[38;5;28;43msuper\u001B[39;49m\u001B[43m(\u001B[49m\u001B[43m)\u001B[49m\u001B[43m.\u001B[49m\u001B[43mreset\u001B[49m\u001B[43m(\u001B[49m\u001B[43mseed\u001B[49m\u001B[43m=\u001B[49m\u001B[43mseed\u001B[49m\u001B[43m,\u001B[49m\u001B[43m \u001B[49m\u001B[43moptions\u001B[49m\u001B[43m=\u001B[49m\u001B[43moptions\u001B[49m\u001B[43m)\u001B[49m\n",
      "\u001B[36mFile \u001B[39m\u001B[32m~/.virtualenvs/2d_football_rl/lib/python3.12/site-packages/pettingzoo/utils/wrappers/base.py:38\u001B[39m, in \u001B[36mBaseWrapper.reset\u001B[39m\u001B[34m(self, seed, options)\u001B[39m\n\u001B[32m     37\u001B[39m \u001B[38;5;28;01mdef\u001B[39;00m\u001B[38;5;250m \u001B[39m\u001B[34mreset\u001B[39m(\u001B[38;5;28mself\u001B[39m, seed: \u001B[38;5;28mint\u001B[39m | \u001B[38;5;28;01mNone\u001B[39;00m = \u001B[38;5;28;01mNone\u001B[39;00m, options: \u001B[38;5;28mdict\u001B[39m | \u001B[38;5;28;01mNone\u001B[39;00m = \u001B[38;5;28;01mNone\u001B[39;00m):\n\u001B[32m---> \u001B[39m\u001B[32m38\u001B[39m     \u001B[38;5;28;43mself\u001B[39;49m\u001B[43m.\u001B[49m\u001B[43menv\u001B[49m\u001B[43m.\u001B[49m\u001B[43mreset\u001B[49m\u001B[43m(\u001B[49m\u001B[43mseed\u001B[49m\u001B[43m=\u001B[49m\u001B[43mseed\u001B[49m\u001B[43m,\u001B[49m\u001B[43m \u001B[49m\u001B[43moptions\u001B[49m\u001B[43m=\u001B[49m\u001B[43moptions\u001B[49m\u001B[43m)\u001B[49m\n",
      "\u001B[36mFile \u001B[39m\u001B[32m~/.virtualenvs/2d_football_rl/lib/python3.12/site-packages/pettingzoo/utils/conversions.py:306\u001B[39m, in \u001B[36mparallel_to_aec_wrapper.reset\u001B[39m\u001B[34m(self, seed, options)\u001B[39m\n\u001B[32m    305\u001B[39m \u001B[38;5;28;01mdef\u001B[39;00m\u001B[38;5;250m \u001B[39m\u001B[34mreset\u001B[39m(\u001B[38;5;28mself\u001B[39m, seed=\u001B[38;5;28;01mNone\u001B[39;00m, options=\u001B[38;5;28;01mNone\u001B[39;00m):\n\u001B[32m--> \u001B[39m\u001B[32m306\u001B[39m     \u001B[38;5;28mself\u001B[39m._observations, \u001B[38;5;28mself\u001B[39m.infos = \u001B[38;5;28mself\u001B[39m.env.reset(seed=seed, options=options)\n\u001B[32m    307\u001B[39m     \u001B[38;5;28mself\u001B[39m.agents = \u001B[38;5;28mself\u001B[39m.env.agents[:]\n\u001B[32m    308\u001B[39m     \u001B[38;5;28mself\u001B[39m._live_agents = \u001B[38;5;28mself\u001B[39m.agents[:]\n",
      "\u001B[31mValueError\u001B[39m: too many values to unpack (expected 2)"
     ]
    }
   ],
   "execution_count": 23
  },
  {
   "metadata": {
    "ExecuteTime": {
     "end_time": "2025-05-10T17:46:54.298400Z",
     "start_time": "2025-05-10T17:46:54.295224Z"
    }
   },
   "cell_type": "code",
   "source": [
    "def get_single_policy():\n",
    "    observation_shape = tianshou_env.observation_space.shape or tianshou_env.observation_space[\"player_1\"].shape\n",
    "    action_shape = tianshou_env.action_space.n or tianshou_env.action_space[\"player_1\"].n\n",
    "\n",
    "    net = Net(\n",
    "        state_shape=observation_shape,\n",
    "        action_shape=action_shape,\n",
    "        hidden_sizes=[128, 128],\n",
    "        device=\"cpu\"\n",
    "    )\n",
    "    optim = Adam(net.parameters(), lr=1e-3)\n",
    "    policy = PPOPolicy(\n",
    "        net,\n",
    "        optim,\n",
    "        discount_factor=0.99,\n",
    "        gae_lambda=0.95,\n",
    "        max_grad_norm=0.5,\n",
    "        vf_coef=0.5,\n",
    "        ent_coef=0.01,\n",
    "        reward_normalization=True,\n",
    "        action_space=tianshou_env.action_space[\"player_1\"]\n",
    "    )\n",
    "    return policy"
   ],
   "id": "fc5311c94ccdf99b",
   "outputs": [],
   "execution_count": 24
  },
  {
   "metadata": {
    "ExecuteTime": {
     "end_time": "2025-05-10T17:49:09.184189Z",
     "start_time": "2025-05-10T17:49:09.081531Z"
    }
   },
   "cell_type": "code",
   "source": [
    "train_envs = DummyVectorEnv([lambda: PettingZooEnv(raw_env()) for _ in range(8)])\n",
    "test_envs = DummyVectorEnv([lambda: PettingZooEnv(raw_env()) for _ in range(4)])\n",
    "\n",
    "policy = get_single_policy()\n",
    "\n",
    "train_collector = Collector(policy, train_envs, VectorReplayBuffer(20000, len(train_envs)))\n",
    "test_collector = Collector(policy, test_envs)\n",
    "\n",
    "result = OnpolicyTrainer(\n",
    "    policy,\n",
    "    train_collector,\n",
    "    test_collector,\n",
    "    max_epoch=10,\n",
    "    step_per_epoch=10000,\n",
    "    repeat_per_collect=4,\n",
    "    episode_per_test=4,\n",
    "    batch_size=64\n",
    ")\n",
    "\n",
    "os.makedirs(\"models\", exist_ok=True)\n",
    "torch.save(policy.state_dict(), \"models/ppo_tianshou_policy.pth\")"
   ],
   "id": "e70c22441bdd55b4",
   "outputs": [
    {
     "ename": "ValueError",
     "evalue": "too many values to unpack (expected 2)",
     "output_type": "error",
     "traceback": [
      "\u001B[31m---------------------------------------------------------------------------\u001B[39m",
      "\u001B[31mValueError\u001B[39m                                Traceback (most recent call last)",
      "\u001B[36mCell\u001B[39m\u001B[36m \u001B[39m\u001B[32mIn[26]\u001B[39m\u001B[32m, line 1\u001B[39m\n\u001B[32m----> \u001B[39m\u001B[32m1\u001B[39m train_envs = \u001B[43mDummyVectorEnv\u001B[49m\u001B[43m(\u001B[49m\u001B[43m[\u001B[49m\u001B[38;5;28;43;01mlambda\u001B[39;49;00m\u001B[43m:\u001B[49m\u001B[43m \u001B[49m\u001B[43mPettingZooEnv\u001B[49m\u001B[43m(\u001B[49m\u001B[43mraw_env\u001B[49m\u001B[43m(\u001B[49m\u001B[43m)\u001B[49m\u001B[43m)\u001B[49m\u001B[43m \u001B[49m\u001B[38;5;28;43;01mfor\u001B[39;49;00m\u001B[43m \u001B[49m\u001B[43m_\u001B[49m\u001B[43m \u001B[49m\u001B[38;5;129;43;01min\u001B[39;49;00m\u001B[43m \u001B[49m\u001B[38;5;28;43mrange\u001B[39;49m\u001B[43m(\u001B[49m\u001B[32;43m8\u001B[39;49m\u001B[43m)\u001B[49m\u001B[43m]\u001B[49m\u001B[43m)\u001B[49m\n\u001B[32m      2\u001B[39m test_envs = DummyVectorEnv([\u001B[38;5;28;01mlambda\u001B[39;00m: PettingZooEnv(raw_env()) \u001B[38;5;28;01mfor\u001B[39;00m _ \u001B[38;5;129;01min\u001B[39;00m \u001B[38;5;28mrange\u001B[39m(\u001B[32m4\u001B[39m)])\n\u001B[32m      4\u001B[39m policy = get_single_policy()\n",
      "\u001B[36mFile \u001B[39m\u001B[32m~/.virtualenvs/2d_football_rl/lib/python3.12/site-packages/tianshou/env/venvs.py:386\u001B[39m, in \u001B[36mDummyVectorEnv.__init__\u001B[39m\u001B[34m(self, env_fns, wait_num, timeout)\u001B[39m\n\u001B[32m    380\u001B[39m \u001B[38;5;28;01mdef\u001B[39;00m\u001B[38;5;250m \u001B[39m\u001B[34m__init__\u001B[39m(\n\u001B[32m    381\u001B[39m     \u001B[38;5;28mself\u001B[39m,\n\u001B[32m    382\u001B[39m     env_fns: Sequence[Callable[[], ENV_TYPE]],\n\u001B[32m    383\u001B[39m     wait_num: \u001B[38;5;28mint\u001B[39m | \u001B[38;5;28;01mNone\u001B[39;00m = \u001B[38;5;28;01mNone\u001B[39;00m,\n\u001B[32m    384\u001B[39m     timeout: \u001B[38;5;28mfloat\u001B[39m | \u001B[38;5;28;01mNone\u001B[39;00m = \u001B[38;5;28;01mNone\u001B[39;00m,\n\u001B[32m    385\u001B[39m ) -> \u001B[38;5;28;01mNone\u001B[39;00m:\n\u001B[32m--> \u001B[39m\u001B[32m386\u001B[39m     \u001B[38;5;28;43msuper\u001B[39;49m\u001B[43m(\u001B[49m\u001B[43m)\u001B[49m\u001B[43m.\u001B[49m\u001B[34;43m__init__\u001B[39;49m\u001B[43m(\u001B[49m\u001B[43menv_fns\u001B[49m\u001B[43m,\u001B[49m\u001B[43m \u001B[49m\u001B[43mDummyEnvWorker\u001B[49m\u001B[43m,\u001B[49m\u001B[43m \u001B[49m\u001B[43mwait_num\u001B[49m\u001B[43m,\u001B[49m\u001B[43m \u001B[49m\u001B[43mtimeout\u001B[49m\u001B[43m)\u001B[49m\n",
      "\u001B[36mFile \u001B[39m\u001B[32m~/.virtualenvs/2d_football_rl/lib/python3.12/site-packages/tianshou/env/venvs.py:86\u001B[39m, in \u001B[36mBaseVectorEnv.__init__\u001B[39m\u001B[34m(self, env_fns, worker_fn, wait_num, timeout)\u001B[39m\n\u001B[32m     83\u001B[39m \u001B[38;5;28mself\u001B[39m._env_fns = env_fns\n\u001B[32m     84\u001B[39m \u001B[38;5;66;03m# A VectorEnv contains a pool of EnvWorkers, which corresponds to\u001B[39;00m\n\u001B[32m     85\u001B[39m \u001B[38;5;66;03m# interact with the given envs (one worker <-> one env).\u001B[39;00m\n\u001B[32m---> \u001B[39m\u001B[32m86\u001B[39m \u001B[38;5;28mself\u001B[39m.workers = [\u001B[43mworker_fn\u001B[49m\u001B[43m(\u001B[49m\u001B[43mfn\u001B[49m\u001B[43m)\u001B[49m \u001B[38;5;28;01mfor\u001B[39;00m fn \u001B[38;5;129;01min\u001B[39;00m env_fns]\n\u001B[32m     87\u001B[39m \u001B[38;5;28mself\u001B[39m.worker_class = \u001B[38;5;28mtype\u001B[39m(\u001B[38;5;28mself\u001B[39m.workers[\u001B[32m0\u001B[39m])\n\u001B[32m     88\u001B[39m \u001B[38;5;28;01massert\u001B[39;00m \u001B[38;5;28missubclass\u001B[39m(\u001B[38;5;28mself\u001B[39m.worker_class, EnvWorker)\n",
      "\u001B[36mFile \u001B[39m\u001B[32m~/.virtualenvs/2d_football_rl/lib/python3.12/site-packages/tianshou/env/worker/dummy.py:14\u001B[39m, in \u001B[36mDummyEnvWorker.__init__\u001B[39m\u001B[34m(self, env_fn)\u001B[39m\n\u001B[32m     13\u001B[39m \u001B[38;5;28;01mdef\u001B[39;00m\u001B[38;5;250m \u001B[39m\u001B[34m__init__\u001B[39m(\u001B[38;5;28mself\u001B[39m, env_fn: Callable[[], gym.Env]) -> \u001B[38;5;28;01mNone\u001B[39;00m:\n\u001B[32m---> \u001B[39m\u001B[32m14\u001B[39m     \u001B[38;5;28mself\u001B[39m.env = \u001B[43menv_fn\u001B[49m\u001B[43m(\u001B[49m\u001B[43m)\u001B[49m\n\u001B[32m     15\u001B[39m     \u001B[38;5;28msuper\u001B[39m().\u001B[34m__init__\u001B[39m(env_fn)\n",
      "\u001B[36mCell\u001B[39m\u001B[36m \u001B[39m\u001B[32mIn[26]\u001B[39m\u001B[32m, line 1\u001B[39m, in \u001B[36m<lambda>\u001B[39m\u001B[34m()\u001B[39m\n\u001B[32m----> \u001B[39m\u001B[32m1\u001B[39m train_envs = DummyVectorEnv([\u001B[38;5;28;01mlambda\u001B[39;00m: \u001B[43mPettingZooEnv\u001B[49m\u001B[43m(\u001B[49m\u001B[43mraw_env\u001B[49m\u001B[43m(\u001B[49m\u001B[43m)\u001B[49m\u001B[43m)\u001B[49m \u001B[38;5;28;01mfor\u001B[39;00m _ \u001B[38;5;129;01min\u001B[39;00m \u001B[38;5;28mrange\u001B[39m(\u001B[32m8\u001B[39m)])\n\u001B[32m      2\u001B[39m test_envs = DummyVectorEnv([\u001B[38;5;28;01mlambda\u001B[39;00m: PettingZooEnv(raw_env()) \u001B[38;5;28;01mfor\u001B[39;00m _ \u001B[38;5;129;01min\u001B[39;00m \u001B[38;5;28mrange\u001B[39m(\u001B[32m4\u001B[39m)])\n\u001B[32m      4\u001B[39m policy = get_single_policy()\n",
      "\u001B[36mFile \u001B[39m\u001B[32m~/.virtualenvs/2d_football_rl/lib/python3.12/site-packages/tianshou/env/pettingzoo_env.py:69\u001B[39m, in \u001B[36mPettingZooEnv.__init__\u001B[39m\u001B[34m(self, env)\u001B[39m\n\u001B[32m     55\u001B[39m \u001B[38;5;28;01massert\u001B[39;00m \u001B[38;5;28mall\u001B[39m(\n\u001B[32m     56\u001B[39m     \u001B[38;5;28mself\u001B[39m.env.observation_space(agent) == \u001B[38;5;28mself\u001B[39m.observation_space \u001B[38;5;28;01mfor\u001B[39;00m agent \u001B[38;5;129;01min\u001B[39;00m \u001B[38;5;28mself\u001B[39m.agents\n\u001B[32m     57\u001B[39m ), (\n\u001B[32m   (...)\u001B[39m\u001B[32m     60\u001B[39m     \u001B[33m\"\u001B[39m\u001B[33m`supersuit.aec_wrappers.pad_observations(env)`\u001B[39m\u001B[33m\"\u001B[39m\n\u001B[32m     61\u001B[39m )\n\u001B[32m     63\u001B[39m \u001B[38;5;28;01massert\u001B[39;00m \u001B[38;5;28mall\u001B[39m(\u001B[38;5;28mself\u001B[39m.env.action_space(agent) == \u001B[38;5;28mself\u001B[39m.action_space \u001B[38;5;28;01mfor\u001B[39;00m agent \u001B[38;5;129;01min\u001B[39;00m \u001B[38;5;28mself\u001B[39m.agents), (\n\u001B[32m     64\u001B[39m     \u001B[33m\"\u001B[39m\u001B[33mAction spaces for all agents must be identical. Perhaps \u001B[39m\u001B[33m\"\u001B[39m\n\u001B[32m     65\u001B[39m     \u001B[33m\"\u001B[39m\u001B[33mSuperSuit\u001B[39m\u001B[33m'\u001B[39m\u001B[33ms pad_action_space wrapper can help (useage: \u001B[39m\u001B[33m\"\u001B[39m\n\u001B[32m     66\u001B[39m     \u001B[33m\"\u001B[39m\u001B[33m`supersuit.aec_wrappers.pad_action_space(env)`\u001B[39m\u001B[33m\"\u001B[39m\n\u001B[32m     67\u001B[39m )\n\u001B[32m---> \u001B[39m\u001B[32m69\u001B[39m \u001B[38;5;28;43mself\u001B[39;49m\u001B[43m.\u001B[49m\u001B[43mreset\u001B[49m\u001B[43m(\u001B[49m\u001B[43m)\u001B[49m\n",
      "\u001B[36mFile \u001B[39m\u001B[32m~/.virtualenvs/2d_football_rl/lib/python3.12/site-packages/tianshou/env/pettingzoo_env.py:72\u001B[39m, in \u001B[36mPettingZooEnv.reset\u001B[39m\u001B[34m(self, *args, **kwargs)\u001B[39m\n\u001B[32m     71\u001B[39m \u001B[38;5;28;01mdef\u001B[39;00m\u001B[38;5;250m \u001B[39m\u001B[34mreset\u001B[39m(\u001B[38;5;28mself\u001B[39m, *args: Any, **kwargs: Any) -> \u001B[38;5;28mtuple\u001B[39m[\u001B[38;5;28mdict\u001B[39m, \u001B[38;5;28mdict\u001B[39m]:\n\u001B[32m---> \u001B[39m\u001B[32m72\u001B[39m     \u001B[38;5;28;43mself\u001B[39;49m\u001B[43m.\u001B[49m\u001B[43menv\u001B[49m\u001B[43m.\u001B[49m\u001B[43mreset\u001B[49m\u001B[43m(\u001B[49m\u001B[43m*\u001B[49m\u001B[43margs\u001B[49m\u001B[43m,\u001B[49m\u001B[43m \u001B[49m\u001B[43m*\u001B[49m\u001B[43m*\u001B[49m\u001B[43mkwargs\u001B[49m\u001B[43m)\u001B[49m\n\u001B[32m     74\u001B[39m     observation, reward, terminated, truncated, info = \u001B[38;5;28mself\u001B[39m.env.last(\u001B[38;5;28mself\u001B[39m)\n\u001B[32m     76\u001B[39m     \u001B[38;5;28;01mif\u001B[39;00m \u001B[38;5;28misinstance\u001B[39m(observation, \u001B[38;5;28mdict\u001B[39m) \u001B[38;5;129;01mand\u001B[39;00m \u001B[33m\"\u001B[39m\u001B[33maction_mask\u001B[39m\u001B[33m\"\u001B[39m \u001B[38;5;129;01min\u001B[39;00m observation:\n",
      "\u001B[36mFile \u001B[39m\u001B[32m~/.virtualenvs/2d_football_rl/lib/python3.12/site-packages/pettingzoo/utils/wrappers/order_enforcing.py:118\u001B[39m, in \u001B[36mOrderEnforcingWrapper.reset\u001B[39m\u001B[34m(self, seed, options)\u001B[39m\n\u001B[32m    116\u001B[39m \u001B[38;5;28mself\u001B[39m._has_reset = \u001B[38;5;28;01mTrue\u001B[39;00m\n\u001B[32m    117\u001B[39m \u001B[38;5;28mself\u001B[39m._has_updated = \u001B[38;5;28;01mTrue\u001B[39;00m\n\u001B[32m--> \u001B[39m\u001B[32m118\u001B[39m \u001B[38;5;28;43msuper\u001B[39;49m\u001B[43m(\u001B[49m\u001B[43m)\u001B[49m\u001B[43m.\u001B[49m\u001B[43mreset\u001B[49m\u001B[43m(\u001B[49m\u001B[43mseed\u001B[49m\u001B[43m=\u001B[49m\u001B[43mseed\u001B[49m\u001B[43m,\u001B[49m\u001B[43m \u001B[49m\u001B[43moptions\u001B[49m\u001B[43m=\u001B[49m\u001B[43moptions\u001B[49m\u001B[43m)\u001B[49m\n",
      "\u001B[36mFile \u001B[39m\u001B[32m~/.virtualenvs/2d_football_rl/lib/python3.12/site-packages/pettingzoo/utils/wrappers/base.py:38\u001B[39m, in \u001B[36mBaseWrapper.reset\u001B[39m\u001B[34m(self, seed, options)\u001B[39m\n\u001B[32m     37\u001B[39m \u001B[38;5;28;01mdef\u001B[39;00m\u001B[38;5;250m \u001B[39m\u001B[34mreset\u001B[39m(\u001B[38;5;28mself\u001B[39m, seed: \u001B[38;5;28mint\u001B[39m | \u001B[38;5;28;01mNone\u001B[39;00m = \u001B[38;5;28;01mNone\u001B[39;00m, options: \u001B[38;5;28mdict\u001B[39m | \u001B[38;5;28;01mNone\u001B[39;00m = \u001B[38;5;28;01mNone\u001B[39;00m):\n\u001B[32m---> \u001B[39m\u001B[32m38\u001B[39m     \u001B[38;5;28;43mself\u001B[39;49m\u001B[43m.\u001B[49m\u001B[43menv\u001B[49m\u001B[43m.\u001B[49m\u001B[43mreset\u001B[49m\u001B[43m(\u001B[49m\u001B[43mseed\u001B[49m\u001B[43m=\u001B[49m\u001B[43mseed\u001B[49m\u001B[43m,\u001B[49m\u001B[43m \u001B[49m\u001B[43moptions\u001B[49m\u001B[43m=\u001B[49m\u001B[43moptions\u001B[49m\u001B[43m)\u001B[49m\n",
      "\u001B[36mFile \u001B[39m\u001B[32m~/.virtualenvs/2d_football_rl/lib/python3.12/site-packages/pettingzoo/utils/conversions.py:306\u001B[39m, in \u001B[36mparallel_to_aec_wrapper.reset\u001B[39m\u001B[34m(self, seed, options)\u001B[39m\n\u001B[32m    305\u001B[39m \u001B[38;5;28;01mdef\u001B[39;00m\u001B[38;5;250m \u001B[39m\u001B[34mreset\u001B[39m(\u001B[38;5;28mself\u001B[39m, seed=\u001B[38;5;28;01mNone\u001B[39;00m, options=\u001B[38;5;28;01mNone\u001B[39;00m):\n\u001B[32m--> \u001B[39m\u001B[32m306\u001B[39m     \u001B[38;5;28mself\u001B[39m._observations, \u001B[38;5;28mself\u001B[39m.infos = \u001B[38;5;28mself\u001B[39m.env.reset(seed=seed, options=options)\n\u001B[32m    307\u001B[39m     \u001B[38;5;28mself\u001B[39m.agents = \u001B[38;5;28mself\u001B[39m.env.agents[:]\n\u001B[32m    308\u001B[39m     \u001B[38;5;28mself\u001B[39m._live_agents = \u001B[38;5;28mself\u001B[39m.agents[:]\n",
      "\u001B[31mValueError\u001B[39m: too many values to unpack (expected 2)"
     ]
    }
   ],
   "execution_count": 26
  },
  {
   "metadata": {},
   "cell_type": "code",
   "outputs": [],
   "execution_count": null,
   "source": "",
   "id": "9fccc5e23e405e3c"
  }
 ],
 "metadata": {
  "kernelspec": {
   "display_name": "Python 3",
   "language": "python",
   "name": "python3"
  },
  "language_info": {
   "codemirror_mode": {
    "name": "ipython",
    "version": 2
   },
   "file_extension": ".py",
   "mimetype": "text/x-python",
   "name": "python",
   "nbconvert_exporter": "python",
   "pygments_lexer": "ipython2",
   "version": "2.7.6"
  }
 },
 "nbformat": 4,
 "nbformat_minor": 5
}
